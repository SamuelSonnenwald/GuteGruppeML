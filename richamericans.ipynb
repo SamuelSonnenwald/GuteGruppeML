{
 "cells": [
  {
   "cell_type": "code",
   "execution_count": 9,
   "metadata": {},
   "outputs": [
    {
     "ename": "KeyError",
     "evalue": "'Income'",
     "output_type": "error",
     "traceback": [
      "\u001b[1;31m---------------------------------------------------------------------------\u001b[0m",
      "\u001b[1;31mKeyError\u001b[0m                                  Traceback (most recent call last)",
      "File \u001b[1;32mc:\\Users\\I568764\\AppData\\Local\\Programs\\Python\\Python311\\Lib\\site-packages\\pandas\\core\\indexes\\base.py:3790\u001b[0m, in \u001b[0;36mIndex.get_loc\u001b[1;34m(self, key)\u001b[0m\n\u001b[0;32m   3789\u001b[0m \u001b[39mtry\u001b[39;00m:\n\u001b[1;32m-> 3790\u001b[0m     \u001b[39mreturn\u001b[39;00m \u001b[39mself\u001b[39;49m\u001b[39m.\u001b[39;49m_engine\u001b[39m.\u001b[39;49mget_loc(casted_key)\n\u001b[0;32m   3791\u001b[0m \u001b[39mexcept\u001b[39;00m \u001b[39mKeyError\u001b[39;00m \u001b[39mas\u001b[39;00m err:\n",
      "File \u001b[1;32mindex.pyx:152\u001b[0m, in \u001b[0;36mpandas._libs.index.IndexEngine.get_loc\u001b[1;34m()\u001b[0m\n",
      "File \u001b[1;32mindex.pyx:181\u001b[0m, in \u001b[0;36mpandas._libs.index.IndexEngine.get_loc\u001b[1;34m()\u001b[0m\n",
      "File \u001b[1;32mpandas\\_libs\\hashtable_class_helper.pxi:7080\u001b[0m, in \u001b[0;36mpandas._libs.hashtable.PyObjectHashTable.get_item\u001b[1;34m()\u001b[0m\n",
      "File \u001b[1;32mpandas\\_libs\\hashtable_class_helper.pxi:7088\u001b[0m, in \u001b[0;36mpandas._libs.hashtable.PyObjectHashTable.get_item\u001b[1;34m()\u001b[0m\n",
      "\u001b[1;31mKeyError\u001b[0m: 'Income'",
      "\nThe above exception was the direct cause of the following exception:\n",
      "\u001b[1;31mKeyError\u001b[0m                                  Traceback (most recent call last)",
      "\u001b[1;32mc:\\Users\\I568764\\OneDrive - SAP SE\\Desktop\\Studium\\3. Theoriephase\\Aktuelle Themen der IT\\ml_classification\\DataModelTest\\richamericans.ipynb Cell 1\u001b[0m line \u001b[0;36m7\n\u001b[0;32m      <a href='vscode-notebook-cell:/c%3A/Users/I568764/OneDrive%20-%20SAP%20SE/Desktop/Studium/3.%20Theoriephase/Aktuelle%20Themen%20der%20IT/ml_classification/DataModelTest/richamericans.ipynb#W0sZmlsZQ%3D%3D?line=4'>5</a>\u001b[0m adult \u001b[39m=\u001b[39m pd\u001b[39m.\u001b[39mread_csv(\u001b[39m'\u001b[39m\u001b[39madult.data\u001b[39m\u001b[39m'\u001b[39m)\n\u001b[0;32m      <a href='vscode-notebook-cell:/c%3A/Users/I568764/OneDrive%20-%20SAP%20SE/Desktop/Studium/3.%20Theoriephase/Aktuelle%20Themen%20der%20IT/ml_classification/DataModelTest/richamericans.ipynb#W0sZmlsZQ%3D%3D?line=5'>6</a>\u001b[0m adult\u001b[39m.\u001b[39mhead()\n\u001b[1;32m----> <a href='vscode-notebook-cell:/c%3A/Users/I568764/OneDrive%20-%20SAP%20SE/Desktop/Studium/3.%20Theoriephase/Aktuelle%20Themen%20der%20IT/ml_classification/DataModelTest/richamericans.ipynb#W0sZmlsZQ%3D%3D?line=6'>7</a>\u001b[0m adult_target \u001b[39m=\u001b[39m adult[\u001b[39m'\u001b[39;49m\u001b[39mIncome\u001b[39;49m\u001b[39m'\u001b[39;49m]\n\u001b[0;32m      <a href='vscode-notebook-cell:/c%3A/Users/I568764/OneDrive%20-%20SAP%20SE/Desktop/Studium/3.%20Theoriephase/Aktuelle%20Themen%20der%20IT/ml_classification/DataModelTest/richamericans.ipynb#W0sZmlsZQ%3D%3D?line=7'>8</a>\u001b[0m adult_preprocessed \u001b[39m=\u001b[39m adult\u001b[39m.\u001b[39mdrop(columns\u001b[39m=\u001b[39m\u001b[39m'\u001b[39m\u001b[39m<=50K\u001b[39m\u001b[39m'\u001b[39m)\n\u001b[0;32m     <a href='vscode-notebook-cell:/c%3A/Users/I568764/OneDrive%20-%20SAP%20SE/Desktop/Studium/3.%20Theoriephase/Aktuelle%20Themen%20der%20IT/ml_classification/DataModelTest/richamericans.ipynb#W0sZmlsZQ%3D%3D?line=10'>11</a>\u001b[0m data_train, data_test, target_train, target_test \u001b[39m=\u001b[39m train_test_split(\n\u001b[0;32m     <a href='vscode-notebook-cell:/c%3A/Users/I568764/OneDrive%20-%20SAP%20SE/Desktop/Studium/3.%20Theoriephase/Aktuelle%20Themen%20der%20IT/ml_classification/DataModelTest/richamericans.ipynb#W0sZmlsZQ%3D%3D?line=11'>12</a>\u001b[0m     adult, adult_target,test_size\u001b[39m=\u001b[39m\u001b[39m0.2\u001b[39m, random_state\u001b[39m=\u001b[39m\u001b[39m42\u001b[39m, stratify\u001b[39m=\u001b[39madult_target)\n",
      "File \u001b[1;32mc:\\Users\\I568764\\AppData\\Local\\Programs\\Python\\Python311\\Lib\\site-packages\\pandas\\core\\frame.py:3896\u001b[0m, in \u001b[0;36mDataFrame.__getitem__\u001b[1;34m(self, key)\u001b[0m\n\u001b[0;32m   3894\u001b[0m \u001b[39mif\u001b[39;00m \u001b[39mself\u001b[39m\u001b[39m.\u001b[39mcolumns\u001b[39m.\u001b[39mnlevels \u001b[39m>\u001b[39m \u001b[39m1\u001b[39m:\n\u001b[0;32m   3895\u001b[0m     \u001b[39mreturn\u001b[39;00m \u001b[39mself\u001b[39m\u001b[39m.\u001b[39m_getitem_multilevel(key)\n\u001b[1;32m-> 3896\u001b[0m indexer \u001b[39m=\u001b[39m \u001b[39mself\u001b[39;49m\u001b[39m.\u001b[39;49mcolumns\u001b[39m.\u001b[39;49mget_loc(key)\n\u001b[0;32m   3897\u001b[0m \u001b[39mif\u001b[39;00m is_integer(indexer):\n\u001b[0;32m   3898\u001b[0m     indexer \u001b[39m=\u001b[39m [indexer]\n",
      "File \u001b[1;32mc:\\Users\\I568764\\AppData\\Local\\Programs\\Python\\Python311\\Lib\\site-packages\\pandas\\core\\indexes\\base.py:3797\u001b[0m, in \u001b[0;36mIndex.get_loc\u001b[1;34m(self, key)\u001b[0m\n\u001b[0;32m   3792\u001b[0m     \u001b[39mif\u001b[39;00m \u001b[39misinstance\u001b[39m(casted_key, \u001b[39mslice\u001b[39m) \u001b[39mor\u001b[39;00m (\n\u001b[0;32m   3793\u001b[0m         \u001b[39misinstance\u001b[39m(casted_key, abc\u001b[39m.\u001b[39mIterable)\n\u001b[0;32m   3794\u001b[0m         \u001b[39mand\u001b[39;00m \u001b[39many\u001b[39m(\u001b[39misinstance\u001b[39m(x, \u001b[39mslice\u001b[39m) \u001b[39mfor\u001b[39;00m x \u001b[39min\u001b[39;00m casted_key)\n\u001b[0;32m   3795\u001b[0m     ):\n\u001b[0;32m   3796\u001b[0m         \u001b[39mraise\u001b[39;00m InvalidIndexError(key)\n\u001b[1;32m-> 3797\u001b[0m     \u001b[39mraise\u001b[39;00m \u001b[39mKeyError\u001b[39;00m(key) \u001b[39mfrom\u001b[39;00m \u001b[39merr\u001b[39;00m\n\u001b[0;32m   3798\u001b[0m \u001b[39mexcept\u001b[39;00m \u001b[39mTypeError\u001b[39;00m:\n\u001b[0;32m   3799\u001b[0m     \u001b[39m# If we have a listlike key, _check_indexing_error will raise\u001b[39;00m\n\u001b[0;32m   3800\u001b[0m     \u001b[39m#  InvalidIndexError. Otherwise we fall through and re-raise\u001b[39;00m\n\u001b[0;32m   3801\u001b[0m     \u001b[39m#  the TypeError.\u001b[39;00m\n\u001b[0;32m   3802\u001b[0m     \u001b[39mself\u001b[39m\u001b[39m.\u001b[39m_check_indexing_error(key)\n",
      "\u001b[1;31mKeyError\u001b[0m: 'Income'"
     ]
    }
   ],
   "source": [
    "import pandas as pd\n",
    "from sklearn.model_selection import train_test_split\n",
    "import matplotlib as plt\n",
    "from sklearn import preprocessing, tree\n",
    "from sklearn.tree import DecisionTreeClassifier\n",
    "from sklearn.ensemble import RandomForestClassifier\n",
    "from sklearn.metrics import confusion_matrix, accuracy_score\n",
    "\n",
    "\n",
    "#Defining our Target (Ja, ich weiß der Column heißt nicht Income)\n",
    "adult = pd.read_csv('adult.data')\n",
    "adult.head()\n",
    "adult_target = adult['income']\n",
    "adult_preprocessed = adult.drop(columns='income')\n",
    "\n",
    "# encode the target variable into a numeric value\n",
    "label_encoder = preprocessing.LabelEncoder()\n",
    "adult_target = label_encoder.fit_transform(adult_target)\n",
    "\n",
    "#Splitting Data into Train and Testdata\n",
    "data_train, data_test, target_train, target_test = train_test_split(\n",
    "    adult, adult_target,test_size=0.2, random_state=42, stratify=adult_target)\n",
    "\n",
    "#Fitting Decision Tree\n",
    "dt = DecisionTreeClassifier()\n",
    "dt.fit(adult_preprocessed, adult_target)\n",
    "\n",
    "#Visualizing Decision Tree\n",
    "plt.figure(figsize=(20,10))\n",
    "tree.plot_tree(dt,\n",
    "               feature_names=adult_preprocessed.columns, \n",
    "               class_names=label_encoder.classes_)\n",
    "plt.show()\n",
    "\n",
    "#fitting Random Forest\n",
    "random_forest = RandomForestClassifier(max_depth=2, random_state=0)\n",
    "\n",
    "random_forest.fit(adult_preprocessed, adult_target)\n",
    "\n",
    "# Predicting the test_target using the Decision Tree\n",
    "test_target_predicted_dt = dt.predict(data_test.drop(columns='income'))\n",
    "\n",
    "# Evaluating accuracy for Decision Tree\n",
    "accuracy_dt = accuracy_score(target_test, test_target_predicted_dt)\n",
    "print(f\"Accuracy of Decision Tree on test data: {accuracy_dt}\")\n",
    "\n",
    "# Confusion Matrix for Decision Tree\n",
    "conf_matrix_dt = confusion_matrix(target_test, test_target_predicted_dt)\n",
    "print(f\"Confusion Matrix for Decision Tree:\\n{conf_matrix_dt}\")\n",
    "\n"
   ]
  }
 ],
 "metadata": {
  "kernelspec": {
   "display_name": "Python 3",
   "language": "python",
   "name": "python3"
  },
  "language_info": {
   "codemirror_mode": {
    "name": "ipython",
    "version": 3
   },
   "file_extension": ".py",
   "mimetype": "text/x-python",
   "name": "python",
   "nbconvert_exporter": "python",
   "pygments_lexer": "ipython3",
   "version": "3.11.5"
  }
 },
 "nbformat": 4,
 "nbformat_minor": 2
}
